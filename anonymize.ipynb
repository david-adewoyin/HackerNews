{
 "cells": [
  {
   "cell_type": "markdown",
   "id": "c3b4d0b9",
   "metadata": {},
   "source": [
    "## Anonymize\n",
    "Usernamed were anonymized from the dataset using faker, the notebook shows how to anonymize user data from a dataset."
   ]
  },
  {
   "cell_type": "code",
   "execution_count": 1,
   "id": "b2dd3f5f",
   "metadata": {},
   "outputs": [
    {
     "name": "stdout",
     "output_type": "stream",
     "text": [
      "Requirement already satisfied: faker in /home/davy/anaconda3/lib/python3.9/site-packages (15.2.0)\n",
      "Requirement already satisfied: unicodecsv in /home/davy/anaconda3/lib/python3.9/site-packages (0.14.1)\n",
      "Requirement already satisfied: python-dateutil>=2.4 in /home/davy/anaconda3/lib/python3.9/site-packages (from faker) (2.8.2)\n",
      "Requirement already satisfied: six>=1.5 in /home/davy/anaconda3/lib/python3.9/site-packages (from python-dateutil>=2.4->faker) (1.16.0)\n"
     ]
    }
   ],
   "source": [
    "!pip install faker unicodecsv"
   ]
  },
  {
   "cell_type": "code",
   "execution_count": 2,
   "id": "9f02841d",
   "metadata": {},
   "outputs": [],
   "source": [
    "# importing required packages\n",
    "import pandas as pd\n",
    "import unicodecsv as csv\n",
    "from faker import Faker,Factory\n",
    "from collections import defaultdict"
   ]
  },
  {
   "cell_type": "code",
   "execution_count": 3,
   "id": "cc1f076a",
   "metadata": {},
   "outputs": [],
   "source": [
    "# loading dataset into pandas\n",
    "posts = pd.read_csv(\"post.csv\",\n",
    "     names=['id','type','parent','text','kids','comment_counts','score','title','posted_by','created_at'])\n",
    "users = pd.read_csv(\"users.csv\",names=['name','karma','created_at'])"
   ]
  },
  {
   "cell_type": "code",
   "execution_count": 4,
   "id": "43d219ad",
   "metadata": {},
   "outputs": [
    {
     "data": {
      "text/plain": [
       "name          0\n",
       "karma         0\n",
       "created_at    0\n",
       "dtype: int64"
      ]
     },
     "execution_count": 4,
     "metadata": {},
     "output_type": "execute_result"
    }
   ],
   "source": [
    "users.isna().sum()"
   ]
  },
  {
   "cell_type": "code",
   "execution_count": 5,
   "id": "4a0c87b2",
   "metadata": {},
   "outputs": [
    {
     "data": {
      "text/plain": [
       "id                      0\n",
       "type                    0\n",
       "parent              97135\n",
       "text               140090\n",
       "kids               620919\n",
       "comment_counts    1052406\n",
       "score             1033395\n",
       "title             1052176\n",
       "posted_by           31101\n",
       "created_at              0\n",
       "dtype: int64"
      ]
     },
     "execution_count": 5,
     "metadata": {},
     "output_type": "execute_result"
    }
   ],
   "source": [
    "posts.isna().sum()"
   ]
  },
  {
   "cell_type": "code",
   "execution_count": 6,
   "id": "33a674a0",
   "metadata": {},
   "outputs": [],
   "source": [
    "## drop all posts where posted_by is empty\n",
    "posts_df =posts.dropna(subset=['posted_by']).copy()"
   ]
  },
  {
   "cell_type": "code",
   "execution_count": 7,
   "id": "096be721",
   "metadata": {},
   "outputs": [],
   "source": [
    "# generate unique names for every username in the posts table\n",
    "faker = Faker()\n",
    "dict_names = {name:faker.unique.name() for name in posts_df['posted_by'].unique()}"
   ]
  },
  {
   "cell_type": "code",
   "execution_count": 8,
   "id": "96509dd2",
   "metadata": {},
   "outputs": [],
   "source": [
    "# replacing username in  posted_by with generated names\n",
    "posts_df['posted_by'] = posts_df['posted_by'].map(dict_names)"
   ]
  },
  {
   "cell_type": "code",
   "execution_count": 9,
   "id": "7ec1d46f",
   "metadata": {},
   "outputs": [
    {
     "data": {
      "text/plain": [
       "0         Joshua Osborne\n",
       "1            Kelly Hicks\n",
       "2    Kayla Strickland MD\n",
       "3          Valerie Brown\n",
       "4        Carlos Williams\n",
       "Name: posted_by, dtype: object"
      ]
     },
     "execution_count": 9,
     "metadata": {},
     "output_type": "execute_result"
    }
   ],
   "source": [
    "posts_df['posted_by'].head()"
   ]
  },
  {
   "cell_type": "code",
   "execution_count": 10,
   "id": "2cf0ddac",
   "metadata": {},
   "outputs": [],
   "source": [
    "# replacing username in user table with generated names\n",
    "users['name'] = users['name'].map(dict_names)"
   ]
  },
  {
   "cell_type": "code",
   "execution_count": 11,
   "id": "b1c3fbc6",
   "metadata": {},
   "outputs": [
    {
     "data": {
      "text/plain": [
       "0             Joshua Osborne\n",
       "1                Kelly Hicks\n",
       "2        Kayla Strickland MD\n",
       "3              Valerie Brown\n",
       "4            Carlos Williams\n",
       "                ...         \n",
       "77877        Courtney Henson\n",
       "77878      Marcus Hutchinson\n",
       "77879          Kelly Barrera\n",
       "77880           Tara Harrell\n",
       "77881            Megan Chang\n",
       "Name: name, Length: 77882, dtype: object"
      ]
     },
     "execution_count": 11,
     "metadata": {},
     "output_type": "execute_result"
    }
   ],
   "source": [
    "users['name']"
   ]
  },
  {
   "cell_type": "code",
   "execution_count": 12,
   "id": "c053bc65",
   "metadata": {},
   "outputs": [],
   "source": [
    "# saving back data into csv\n",
    "users.to_csv('anonymize_users.csv', index=False)\n",
    "posts_df.to_csv(\"anonymize_posts.csv\",index=False)"
   ]
  }
 ],
 "metadata": {
  "kernelspec": {
   "display_name": "Python 3 (ipykernel)",
   "language": "python",
   "name": "python3"
  },
  "language_info": {
   "codemirror_mode": {
    "name": "ipython",
    "version": 3
   },
   "file_extension": ".py",
   "mimetype": "text/x-python",
   "name": "python",
   "nbconvert_exporter": "python",
   "pygments_lexer": "ipython3",
   "version": "3.9.7"
  }
 },
 "nbformat": 4,
 "nbformat_minor": 5
}
