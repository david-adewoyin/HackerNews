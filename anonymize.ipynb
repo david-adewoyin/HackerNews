{
 "cells": [
  {
   "cell_type": "markdown",
   "id": "4bc7ba16",
   "metadata": {},
   "source": [
    "## Anonymize\n",
    "Usernamed were anonymized from the dataset using faker, the notebook shows how to anonymize user data from a dataset."
   ]
  },
  {
   "cell_type": "code",
   "execution_count": null,
   "id": "278b6299",
   "metadata": {},
   "outputs": [
    {
     "name": "stdout",
     "output_type": "stream",
     "text": [
      "Requirement already satisfied: faker in /home/davy/anaconda3/lib/python3.9/site-packages (15.2.0)\n",
      "Requirement already satisfied: unicodecsv in /home/davy/anaconda3/lib/python3.9/site-packages (0.14.1)\n",
      "Requirement already satisfied: python-dateutil>=2.4 in /home/davy/anaconda3/lib/python3.9/site-packages (from faker) (2.8.2)\n",
      "Requirement already satisfied: six>=1.5 in /home/davy/anaconda3/lib/python3.9/site-packages (from python-dateutil>=2.4->faker) (1.16.0)\n"
     ]
    }
   ],
   "source": [
    "!pip install faker unicodecsv"
   ]
  },
  {
   "cell_type": "code",
   "execution_count": null,
   "id": "9f02841d",
   "metadata": {},
   "outputs": [],
   "source": [
    "# importing required packages\n",
    "import pandas as pd\n",
    "import unicodecsv as csv\n",
    "from faker import Faker,Factory\n",
    "from collections import defaultdict"
   ]
  },
  {
   "cell_type": "code",
   "execution_count": null,
   "id": "cc1f076a",
   "metadata": {},
   "outputs": [],
   "source": [
    "# loading dataset into pandas\n",
    "posts = pd.read_csv(\"post.csv\",\n",
    "     names=['id','type','parent','text','kids','comment_counts','score','title','posted_by','created_at'])\n",
    "users = pd.read_csv(\"users.csv\",names=['name','karma','created_at'])"
   ]
  },
  {
   "cell_type": "code",
   "execution_count": null,
   "id": "43d219ad",
   "metadata": {},
   "outputs": [],
   "source": [
    "users.isna().sum()"
   ]
  },
  {
   "cell_type": "code",
   "execution_count": null,
   "id": "d24f47a5",
   "metadata": {},
   "outputs": [],
   "source": [
    "posts.isna().sum()"
   ]
  },
  {
   "cell_type": "code",
   "execution_count": null,
   "id": "33a674a0",
   "metadata": {},
   "outputs": [],
   "source": [
    "## drop all posts where posted_by is empty\n",
    "posts_df =posts.dropna(subset=['posted_by']).copy()"
   ]
  },
  {
   "cell_type": "code",
   "execution_count": null,
   "id": "096be721",
   "metadata": {},
   "outputs": [],
   "source": [
    "# generate unique names for every username in the posts table\n",
    "faker = Faker()\n",
    "dict_names = {name:faker.unique.name() for name in posts_df['posted_by'].unique()}"
   ]
  },
  {
   "cell_type": "code",
   "execution_count": null,
   "id": "51bed6f3",
   "metadata": {},
   "outputs": [],
   "source": [
    "# replacing username in  posted_by with generated names\n",
    "posts_df['posted_by'] = posts_df['posted_by'].map(dict_names)"
   ]
  },
  {
   "cell_type": "code",
   "execution_count": null,
   "id": "9f7ddd5e",
   "metadata": {},
   "outputs": [],
   "source": [
    "posts_df['posted_by'].head()"
   ]
  },
  {
   "cell_type": "code",
   "execution_count": null,
   "id": "56c09c10",
   "metadata": {},
   "outputs": [],
   "source": [
    "# replacing username in user table with generated names\n",
    "users['name'] = users['name'].map(dict_names)"
   ]
  },
  {
   "cell_type": "code",
   "execution_count": null,
   "id": "228fa257",
   "metadata": {},
   "outputs": [],
   "source": [
    "users['name']"
   ]
  },
  {
   "cell_type": "code",
   "execution_count": null,
   "id": "1735e92c",
   "metadata": {},
   "outputs": [],
   "source": [
    "# saving back data into csv\n",
    "users.to_csv('anonymize_users.csv', index=False)\n",
    "posts_df.to_csv(\"anonymize_posts.csv\",index=False)"
   ]
  }
 ],
 "metadata": {
  "kernelspec": {
   "display_name": "Python 3 (ipykernel)",
   "language": "python",
   "name": "python3"
  },
  "language_info": {
   "codemirror_mode": {
    "name": "ipython",
    "version": 3
   },
   "file_extension": ".py",
   "mimetype": "text/x-python",
   "name": "python",
   "nbconvert_exporter": "python",
   "pygments_lexer": "ipython3",
   "version": "3.9.7"
  }
 },
 "nbformat": 4,
 "nbformat_minor": 5
}
