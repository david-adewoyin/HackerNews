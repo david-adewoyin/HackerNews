{
 "cells": [
  {
   "cell_type": "markdown",
   "id": "5a5a2036",
   "metadata": {},
   "source": [
    "## Analyzing Hacker News data\n",
    "\n",
    "To run this analysis, A web scrapper was built that crawled the official [Hacker News API](https://github.com/HackerNews/API), and obtained a list of posts during the months of July - Oct 2022. Posts including comments,stories and jobs were scrapped and user information and karma points were also included in the dataset."
   ]
  },
  {
   "cell_type": "code",
   "execution_count": 1,
   "id": "c1e93b55",
   "metadata": {},
   "outputs": [],
   "source": [
    "# importing libraries\n",
    "import pandas as pd\n",
    "import matplotlib.pyplot as plt\n",
    "import seaborn as sns\n",
    "import numpy as np\n",
    "\n",
    "sns.set_style(\"darkgrid\")"
   ]
  },
  {
   "cell_type": "code",
   "execution_count": 2,
   "id": "35ec2b37",
   "metadata": {},
   "outputs": [],
   "source": [
    "# reading in the datasets\n",
    "hn_posts = pd.read_csv(\"data/hn_posts.csv\",\n",
    "          names=['id','type','parent','text','kids','comment_counts','score','title','posted_by','created_at']\n",
    "           )\n",
    "hn_users = pd.read_csv(\"data/hn_users.csv\",names=['name','karma','created_at'])"
   ]
  },
  {
   "cell_type": "code",
   "execution_count": 4,
   "id": "d23402e6",
   "metadata": {},
   "outputs": [
    {
     "data": {
      "text/html": [
       "<div>\n",
       "<style scoped>\n",
       "    .dataframe tbody tr th:only-of-type {\n",
       "        vertical-align: middle;\n",
       "    }\n",
       "\n",
       "    .dataframe tbody tr th {\n",
       "        vertical-align: top;\n",
       "    }\n",
       "\n",
       "    .dataframe thead th {\n",
       "        text-align: right;\n",
       "    }\n",
       "</style>\n",
       "<table border=\"1\" class=\"dataframe\">\n",
       "  <thead>\n",
       "    <tr style=\"text-align: right;\">\n",
       "      <th></th>\n",
       "      <th>id</th>\n",
       "      <th>type</th>\n",
       "      <th>parent</th>\n",
       "      <th>text</th>\n",
       "      <th>kids</th>\n",
       "      <th>comment_counts</th>\n",
       "      <th>score</th>\n",
       "      <th>title</th>\n",
       "      <th>posted_by</th>\n",
       "      <th>created_at</th>\n",
       "    </tr>\n",
       "  </thead>\n",
       "  <tbody>\n",
       "    <tr>\n",
       "      <th>581655</th>\n",
       "      <td>32816476</td>\n",
       "      <td>comment</td>\n",
       "      <td>32816405.0</td>\n",
       "      <td>I didn&amp;#x27;t realize this was a thing till I ...</td>\n",
       "      <td>{32824586,32824624}</td>\n",
       "      <td>NaN</td>\n",
       "      <td>NaN</td>\n",
       "      <td>NaN</td>\n",
       "      <td>vlod</td>\n",
       "      <td>1663014677</td>\n",
       "    </tr>\n",
       "    <tr>\n",
       "      <th>339358</th>\n",
       "      <td>33058746</td>\n",
       "      <td>comment</td>\n",
       "      <td>33058450.0</td>\n",
       "      <td>&amp;gt; He&amp;#x27;s right. Not just for Common Lisp...</td>\n",
       "      <td>{33060426}</td>\n",
       "      <td>NaN</td>\n",
       "      <td>NaN</td>\n",
       "      <td>NaN</td>\n",
       "      <td>Test0129</td>\n",
       "      <td>1664735236</td>\n",
       "    </tr>\n",
       "    <tr>\n",
       "      <th>680379</th>\n",
       "      <td>32717691</td>\n",
       "      <td>comment</td>\n",
       "      <td>32717613.0</td>\n",
       "      <td>I would suggest you make yourself knowledgeabl...</td>\n",
       "      <td>{32721029}</td>\n",
       "      <td>NaN</td>\n",
       "      <td>NaN</td>\n",
       "      <td>NaN</td>\n",
       "      <td>desindol</td>\n",
       "      <td>1662325311</td>\n",
       "    </tr>\n",
       "    <tr>\n",
       "      <th>142679</th>\n",
       "      <td>33255377</td>\n",
       "      <td>comment</td>\n",
       "      <td>33252093.0</td>\n",
       "      <td>&amp;gt; The fact that neural networks have been t...</td>\n",
       "      <td>{33255598}</td>\n",
       "      <td>NaN</td>\n",
       "      <td>NaN</td>\n",
       "      <td>NaN</td>\n",
       "      <td>ketralnis</td>\n",
       "      <td>1666134962</td>\n",
       "    </tr>\n",
       "    <tr>\n",
       "      <th>357835</th>\n",
       "      <td>33040255</td>\n",
       "      <td>comment</td>\n",
       "      <td>33036665.0</td>\n",
       "      <td>Manhattan should end street parking, paid or f...</td>\n",
       "      <td>NaN</td>\n",
       "      <td>NaN</td>\n",
       "      <td>NaN</td>\n",
       "      <td>NaN</td>\n",
       "      <td>addicted</td>\n",
       "      <td>1664569300</td>\n",
       "    </tr>\n",
       "  </tbody>\n",
       "</table>\n",
       "</div>"
      ],
      "text/plain": [
       "              id     type      parent  \\\n",
       "581655  32816476  comment  32816405.0   \n",
       "339358  33058746  comment  33058450.0   \n",
       "680379  32717691  comment  32717613.0   \n",
       "142679  33255377  comment  33252093.0   \n",
       "357835  33040255  comment  33036665.0   \n",
       "\n",
       "                                                     text  \\\n",
       "581655  I didn&#x27;t realize this was a thing till I ...   \n",
       "339358  &gt; He&#x27;s right. Not just for Common Lisp...   \n",
       "680379  I would suggest you make yourself knowledgeabl...   \n",
       "142679  &gt; The fact that neural networks have been t...   \n",
       "357835  Manhattan should end street parking, paid or f...   \n",
       "\n",
       "                       kids  comment_counts  score title  posted_by  \\\n",
       "581655  {32824586,32824624}             NaN    NaN   NaN       vlod   \n",
       "339358           {33060426}             NaN    NaN   NaN   Test0129   \n",
       "680379           {32721029}             NaN    NaN   NaN   desindol   \n",
       "142679           {33255598}             NaN    NaN   NaN  ketralnis   \n",
       "357835                  NaN             NaN    NaN   NaN   addicted   \n",
       "\n",
       "        created_at  \n",
       "581655  1663014677  \n",
       "339358  1664735236  \n",
       "680379  1662325311  \n",
       "142679  1666134962  \n",
       "357835  1664569300  "
      ]
     },
     "execution_count": 4,
     "metadata": {},
     "output_type": "execute_result"
    }
   ],
   "source": [
    "hn_posts.sample(5)"
   ]
  },
  {
   "cell_type": "code",
   "execution_count": 6,
   "id": "bc7ede7e",
   "metadata": {},
   "outputs": [
    {
     "name": "stdout",
     "output_type": "stream",
     "text": [
      "Shape of posts (1127716, 10)\n",
      "Shape of users table (77882, 3)\n"
     ]
    }
   ],
   "source": [
    "print(f\"Shape of posts {hn_posts.shape}\")\n",
    "print(f\"Shape of users table {hn_users.shape}\")"
   ]
  },
  {
   "cell_type": "code",
   "execution_count": 268,
   "id": "2e8dea50",
   "metadata": {},
   "outputs": [
    {
     "data": {
      "text/plain": [
       "comment    1030581\n",
       "story        96753\n",
       "job            231\n",
       "pollopt        126\n",
       "poll            25\n",
       "Name: type, dtype: int64"
      ]
     },
     "execution_count": 268,
     "metadata": {},
     "output_type": "execute_result"
    }
   ],
   "source": [
    "# checking the type of posts we have\n",
    "hn_posts['type'].value_counts()"
   ]
  },
  {
   "cell_type": "markdown",
   "id": "0d8152c8",
   "metadata": {},
   "source": [
    "We have more than a million comments and 90k+ stories in the dataset."
   ]
  },
  {
   "cell_type": "markdown",
   "id": "2148494b",
   "metadata": {},
   "source": [
    "### Cleaning the dataset\n",
    "Now we clean our dataset and remove `null` values in columns where we are dont expect them, we also convert `timestamp` into `date time` object for easy analysis."
   ]
  },
  {
   "cell_type": "code",
   "execution_count": 8,
   "id": "0cf19c8b",
   "metadata": {},
   "outputs": [
    {
     "data": {
      "text/plain": [
       "id                      0\n",
       "type                    0\n",
       "parent              97135\n",
       "text               140090\n",
       "kids               620919\n",
       "comment_counts    1052406\n",
       "score             1033395\n",
       "title             1052176\n",
       "posted_by           31101\n",
       "created_at              0\n",
       "dtype: int64"
      ]
     },
     "execution_count": 8,
     "metadata": {},
     "output_type": "execute_result"
    }
   ],
   "source": [
    "# checking number of missing values in each column\n",
    "hn_posts.isna().sum()"
   ]
  },
  {
   "cell_type": "code",
   "execution_count": 9,
   "id": "c76baf1c",
   "metadata": {},
   "outputs": [],
   "source": [
    "## dropping all posts where posted_by is null, we expect posted_by to not contain null values\n",
    "hn_posts = hn_posts[hn_posts['posted_by'] != None];"
   ]
  },
  {
   "cell_type": "code",
   "execution_count": 217,
   "id": "ce16cd0d",
   "metadata": {},
   "outputs": [],
   "source": [
    "#converting the created_at column into datetime \n",
    "dict_map = {0: 'Sun', 1: 'Mon',2:\"Tue\",3:'Wed',4:'Thur',5:'Fri',6:'Sat'}\n",
    "\n",
    "hn_posts['created_at'] = pd.to_datetime(hn_posts['created_at'],unit='s') \n",
    "hn_posts['date'] = hn_posts['created_at'].dt.date\n",
    "hn_posts['day_of_week'] = hn_posts['created_at'].dt.day_of_week.map(dict_map)\n",
    "hn_posts['hour'] = hn_posts['created_at'].dt.hour"
   ]
  },
  {
   "cell_type": "markdown",
   "id": "201bc6c9",
   "metadata": {},
   "source": [
    "## Exploratory Analysis\n",
    "In this section, we perform exploratory analysis and try to answer questions such as:\n",
    "- What time and day of the week receives the highest engagement.\n",
    "- What people on Hackernews talk about: Entity Recognition"
   ]
  },
  {
   "cell_type": "code",
   "execution_count": 259,
   "id": "81141778",
   "metadata": {},
   "outputs": [
    {
     "data": {
      "text/plain": [
       "<AxesSubplot:xlabel='day_of_week', ylabel='score'>"
      ]
     },
     "execution_count": 259,
     "metadata": {},
     "output_type": "execute_result"
    },
    {
     "data": {
      "image/png": "[encoded data removed]",
      "text/plain": [
       "<Figure size 432x288 with 1 Axes>"
      ]
     },
     "metadata": {},
     "output_type": "display_data"
    }
   ],
   "source": [
    "# day of week were posts have the highest scores\n",
    "sns.barplot(data=hn_posts,x='day_of_week',y='score')"
   ]
  },
  {
   "cell_type": "markdown",
   "id": "8174be77",
   "metadata": {},
   "source": [
    "Saturday seems the day were posts seems to score the highest"
   ]
  },
  {
   "cell_type": "code",
   "execution_count": 263,
   "id": "50c545bb",
   "metadata": {
    "scrolled": true
   },
   "outputs": [
    {
     "data": {
      "image/png": "[encoded data removed]",
      "text/plain": [
       "<Figure size 1080x288 with 2 Axes>"
      ]
     },
     "metadata": {},
     "output_type": "display_data"
    }
   ],
   "source": [
    "fig,axes = plt.subplots(1,2,sharex=True)\n",
    "fig.set_figwidth(15)\n",
    "sns.lineplot(data=hn_posts,x='hour',y='score',ci=None,ax=axes[0])\n",
    "sns.lineplot(data=hn_posts,x='hour',y='comment_counts',ci=None,ax=axes[1])\n",
    "for ax in axes:\n",
    "    ax.set_ylim(ymin=10)\n",
    "    ax.set_xlim(xmin=0)\n",
    "axes[0].set_title('Post Score per hour')\n",
    "axes[1].set_title(\"Comment counts per hour\")\n",
    "plt.xticks([0,2,4,6,7,10,12,14,16,18,20,22,24]);"
   ]
  },
  {
   "cell_type": "markdown",
   "id": "59d1a878",
   "metadata": {},
   "source": [
    "The best time to post a story seems to be between *12pm - 1pm* GMT +1, this period as might be expected seems also has more interaction by comment counts."
   ]
  }
 ],
 "metadata": {
  "kernelspec": {
   "display_name": "Python 3 (ipykernel)",
   "language": "python",
   "name": "python3"
  },
  "language_info": {
   "codemirror_mode": {
    "name": "ipython",
    "version": 3
   },
   "file_extension": ".py",
   "mimetype": "text/x-python",
   "name": "python",
   "nbconvert_exporter": "python",
   "pygments_lexer": "ipython3",
   "version": "3.9.7"
  }
 },
 "nbformat": 4,
 "nbformat_minor": 5
}
